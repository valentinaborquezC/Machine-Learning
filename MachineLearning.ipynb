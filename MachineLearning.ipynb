{
 "cells": [
  {
   "cell_type": "code",
   "execution_count": 1,
   "id": "6c175aab",
   "metadata": {},
   "outputs": [],
   "source": [
    "#Escribir contexto..\n",
    "#hipotesis de regresion\n",
    "#1: La probabilidad de ganar una ronda aumenta si el jugador logra obtener una kill con una granada\n",
    "#2: Existe mayor probabilidad de ganar un ronda si el jugador recorre más distancia dentro del mapa\n",
    "#3: Mientras mas alto el valor del equipamiento del jugador aumentan las probablidades de ganar una ronda.\n"
   ]
  },
  {
   "cell_type": "code",
   "execution_count": null,
   "id": "13f8b6b4",
   "metadata": {},
   "outputs": [],
   "source": [
    "import pandas as pd \n",
    "import numpy as np\n"
   ]
  },
  {
   "cell_type": "code",
   "execution_count": 2,
   "id": "13158c39",
   "metadata": {},
   "outputs": [],
   "source": [
    "#Cargamos el archivo\n",
    "df = pd.read_csv('Anexo ET_demo_round_traces.csv', sep=',')"
   ]
  },
  {
   "cell_type": "code",
   "execution_count": 3,
   "id": "3bc814cf",
   "metadata": {},
   "outputs": [
    {
     "name": "stdout",
     "output_type": "stream",
     "text": [
      "          Unnamed: 0  InternalTeamId       MatchId       RoundId  \\\n",
      "count   79157.000000    79157.000000  79157.000000  79157.000000   \n",
      "mean    60570.193640        1.500006    250.525033     12.765517   \n",
      "std     36436.598386        0.500003    149.557804      7.432837   \n",
      "min       600.000000        1.000000      4.000000      1.000000   \n",
      "25%     30830.000000        1.000000    128.000000      6.000000   \n",
      "50%     56720.000000        2.000000    236.000000     12.000000   \n",
      "75%     90639.000000        2.000000    373.000000     19.000000   \n",
      "max    123779.000000        2.000000    511.000000     36.000000   \n",
      "\n",
      "       RLethalGrenadesThrown  RNonLethalGrenadesThrown  PrimaryAssaultRifle  \\\n",
      "count           79157.000000              79157.000000         79157.000000   \n",
      "mean                0.498667                  1.258057             0.675363   \n",
      "std                 0.597985                  1.184909             0.464125   \n",
      "min                 0.000000                  0.000000             0.000000   \n",
      "25%                 0.000000                  0.000000             0.000000   \n",
      "50%                 0.000000                  1.000000             1.000000   \n",
      "75%                 1.000000                  2.000000             1.000000   \n",
      "max                 4.000000                  6.000000             1.000000   \n",
      "\n",
      "       PrimarySniperRifle  PrimaryHeavy    PrimarySMG  ...    RoundKills  \\\n",
      "count        79157.000000  79157.000000  79157.000000  ...  79157.000000   \n",
      "mean             0.089840      0.005964      0.007046  ...      0.671349   \n",
      "std              0.279797      0.075497      0.082453  ...      0.881798   \n",
      "min              0.000000      0.000000      0.000000  ...      0.000000   \n",
      "25%              0.000000      0.000000      0.000000  ...      0.000000   \n",
      "50%              0.000000      0.000000      0.000000  ...      0.000000   \n",
      "75%              0.000000      0.000000      0.000000  ...      1.000000   \n",
      "max              1.000000      1.000000      1.000000  ...      5.000000   \n",
      "\n",
      "       RoundAssists  RoundHeadshots  RoundFlankKills  \\\n",
      "count  79157.000000    79157.000000     79157.000000   \n",
      "mean       0.146178        0.301553         0.095633   \n",
      "std        0.385601        0.578843         0.320641   \n",
      "min        0.000000        0.000000         0.000000   \n",
      "25%        0.000000        0.000000         0.000000   \n",
      "50%        0.000000        0.000000         0.000000   \n",
      "75%        0.000000        0.000000         0.000000   \n",
      "max        4.000000        5.000000         5.000000   \n",
      "\n",
      "       RoundStartingEquipmentValue  TeamStartingEquipmentValue    MatchKills  \\\n",
      "count                 79157.000000                79157.000000  79157.000000   \n",
      "mean                   3778.108695                18890.133532      8.511578   \n",
      "std                    2111.285406                 9743.203024      6.195079   \n",
      "min                       0.000000                    0.000000      0.000000   \n",
      "25%                    1600.000000                10900.000000      3.000000   \n",
      "50%                    4700.000000                22550.000000      8.000000   \n",
      "75%                    5200.000000                26050.000000     13.000000   \n",
      "max                    8850.000000                36150.000000     41.000000   \n",
      "\n",
      "       MatchFlankKills  MatchAssists  MatchHeadshots  \n",
      "count     79157.000000  79157.000000    79157.000000  \n",
      "mean          1.209912      1.874831        3.858484  \n",
      "std           1.435150      1.824027        3.246752  \n",
      "min           0.000000      0.000000        0.000000  \n",
      "25%           0.000000      0.000000        1.000000  \n",
      "50%           1.000000      1.000000        3.000000  \n",
      "75%           2.000000      3.000000        6.000000  \n",
      "max          11.000000     14.000000       22.000000  \n",
      "\n",
      "[8 rows x 21 columns]\n"
     ]
    },
    {
     "name": "stderr",
     "output_type": "stream",
     "text": [
      "C:\\Users\\Pablo\\AppData\\Local\\Temp\\ipykernel_12832\\140201505.py:4: DtypeWarning: Columns (6,7) have mixed types. Specify dtype option on import or set low_memory=False.\n",
      "  df = pd.read_csv('Anexo ET_demo_round_traces.csv', sep=';')\n"
     ]
    }
   ],
   "source": [
    "import pandas as pd\n",
    "\n",
    "# Leemos el archivo CSV de DataFrame\n",
    "df = pd.read_csv('Anexo ET_demo_round_traces.csv', sep=';')\n",
    "\n",
    "# Con describe podemos hacer un analisis estadístico descriptivo del archivo\n",
    "desc = df.describe()\n",
    "print(desc)"
   ]
  },
  {
   "cell_type": "code",
   "execution_count": 4,
   "id": "d8fb2f21",
   "metadata": {},
   "outputs": [
    {
     "name": "stdout",
     "output_type": "stream",
     "text": [
      "          Unnamed: 0  InternalTeamId       MatchId       RoundId  \\\n",
      "count   79157.000000    79157.000000  79157.000000  79157.000000   \n",
      "mean    60570.193640        1.500006    250.525033     12.765517   \n",
      "std     36436.598386        0.500003    149.557804      7.432837   \n",
      "min       600.000000        1.000000      4.000000      1.000000   \n",
      "25%     30830.000000        1.000000    128.000000      6.000000   \n",
      "50%     56720.000000        2.000000    236.000000     12.000000   \n",
      "75%     90639.000000        2.000000    373.000000     19.000000   \n",
      "max    123779.000000        2.000000    511.000000     36.000000   \n",
      "\n",
      "       RLethalGrenadesThrown  RNonLethalGrenadesThrown  PrimaryAssaultRifle  \\\n",
      "count           79157.000000              79157.000000         79157.000000   \n",
      "mean                0.498667                  1.258057             0.675363   \n",
      "std                 0.597985                  1.184909             0.464125   \n",
      "min                 0.000000                  0.000000             0.000000   \n",
      "25%                 0.000000                  0.000000             0.000000   \n",
      "50%                 0.000000                  1.000000             1.000000   \n",
      "75%                 1.000000                  2.000000             1.000000   \n",
      "max                 4.000000                  6.000000             1.000000   \n",
      "\n",
      "       PrimarySniperRifle  PrimaryHeavy    PrimarySMG  ...    RoundKills  \\\n",
      "count        79157.000000  79157.000000  79157.000000  ...  79157.000000   \n",
      "mean             0.089840      0.005964      0.007046  ...      0.671349   \n",
      "std              0.279797      0.075497      0.082453  ...      0.881798   \n",
      "min              0.000000      0.000000      0.000000  ...      0.000000   \n",
      "25%              0.000000      0.000000      0.000000  ...      0.000000   \n",
      "50%              0.000000      0.000000      0.000000  ...      0.000000   \n",
      "75%              0.000000      0.000000      0.000000  ...      1.000000   \n",
      "max              1.000000      1.000000      1.000000  ...      5.000000   \n",
      "\n",
      "       RoundAssists  RoundHeadshots  RoundFlankKills  \\\n",
      "count  79157.000000    79157.000000     79157.000000   \n",
      "mean       0.146178        0.301553         0.095633   \n",
      "std        0.385601        0.578843         0.320641   \n",
      "min        0.000000        0.000000         0.000000   \n",
      "25%        0.000000        0.000000         0.000000   \n",
      "50%        0.000000        0.000000         0.000000   \n",
      "75%        0.000000        0.000000         0.000000   \n",
      "max        4.000000        5.000000         5.000000   \n",
      "\n",
      "       RoundStartingEquipmentValue  TeamStartingEquipmentValue    MatchKills  \\\n",
      "count                 79157.000000                79157.000000  79157.000000   \n",
      "mean                   3778.108695                18890.133532      8.511578   \n",
      "std                    2111.285406                 9743.203024      6.195079   \n",
      "min                       0.000000                    0.000000      0.000000   \n",
      "25%                    1600.000000                10900.000000      3.000000   \n",
      "50%                    4700.000000                22550.000000      8.000000   \n",
      "75%                    5200.000000                26050.000000     13.000000   \n",
      "max                    8850.000000                36150.000000     41.000000   \n",
      "\n",
      "       MatchFlankKills  MatchAssists  MatchHeadshots  \n",
      "count     79157.000000  79157.000000    79157.000000  \n",
      "mean          1.209912      1.874831        3.858484  \n",
      "std           1.435150      1.824027        3.246752  \n",
      "min           0.000000      0.000000        0.000000  \n",
      "25%           0.000000      0.000000        1.000000  \n",
      "50%           1.000000      1.000000        3.000000  \n",
      "75%           2.000000      3.000000        6.000000  \n",
      "max          11.000000     14.000000       22.000000  \n",
      "\n",
      "[8 rows x 21 columns]\n"
     ]
    }
   ],
   "source": [
    "#en el bloque anterior nos arroja un problema de memoria baja por lo cual se soluciona con \"low_memory=False\"\n",
    "df = pd.read_csv('Anexo ET_demo_round_traces.csv', sep=';',low_memory=False)\n",
    "\n",
    "desc = df.describe()\n",
    "print(desc)"
   ]
  },
  {
   "cell_type": "code",
   "execution_count": 5,
   "id": "6d01bba1",
   "metadata": {},
   "outputs": [
    {
     "data": {
      "text/html": [
       "<div>\n",
       "<style scoped>\n",
       "    .dataframe tbody tr th:only-of-type {\n",
       "        vertical-align: middle;\n",
       "    }\n",
       "\n",
       "    .dataframe tbody tr th {\n",
       "        vertical-align: top;\n",
       "    }\n",
       "\n",
       "    .dataframe thead th {\n",
       "        text-align: right;\n",
       "    }\n",
       "</style>\n",
       "<table border=\"1\" class=\"dataframe\">\n",
       "  <thead>\n",
       "    <tr style=\"text-align: right;\">\n",
       "      <th></th>\n",
       "      <th>Unnamed: 0</th>\n",
       "      <th>Map</th>\n",
       "      <th>Team</th>\n",
       "      <th>InternalTeamId</th>\n",
       "      <th>MatchId</th>\n",
       "      <th>RoundId</th>\n",
       "      <th>RoundWinner</th>\n",
       "      <th>MatchWinner</th>\n",
       "      <th>Survived</th>\n",
       "      <th>AbnormalMatch</th>\n",
       "      <th>...</th>\n",
       "      <th>RoundKills</th>\n",
       "      <th>RoundAssists</th>\n",
       "      <th>RoundHeadshots</th>\n",
       "      <th>RoundFlankKills</th>\n",
       "      <th>RoundStartingEquipmentValue</th>\n",
       "      <th>TeamStartingEquipmentValue</th>\n",
       "      <th>MatchKills</th>\n",
       "      <th>MatchFlankKills</th>\n",
       "      <th>MatchAssists</th>\n",
       "      <th>MatchHeadshots</th>\n",
       "    </tr>\n",
       "  </thead>\n",
       "  <tbody>\n",
       "    <tr>\n",
       "      <th>0</th>\n",
       "      <td>600</td>\n",
       "      <td>de_inferno</td>\n",
       "      <td>Terrorist</td>\n",
       "      <td>1</td>\n",
       "      <td>4</td>\n",
       "      <td>1</td>\n",
       "      <td>False</td>\n",
       "      <td>True</td>\n",
       "      <td>False</td>\n",
       "      <td>False</td>\n",
       "      <td>...</td>\n",
       "      <td>0</td>\n",
       "      <td>0</td>\n",
       "      <td>0</td>\n",
       "      <td>0</td>\n",
       "      <td>750</td>\n",
       "      <td>4400</td>\n",
       "      <td>0</td>\n",
       "      <td>0</td>\n",
       "      <td>0</td>\n",
       "      <td>0</td>\n",
       "    </tr>\n",
       "    <tr>\n",
       "      <th>1</th>\n",
       "      <td>601</td>\n",
       "      <td>de_inferno</td>\n",
       "      <td>Terrorist</td>\n",
       "      <td>1</td>\n",
       "      <td>4</td>\n",
       "      <td>1</td>\n",
       "      <td>False</td>\n",
       "      <td>True</td>\n",
       "      <td>False</td>\n",
       "      <td>False</td>\n",
       "      <td>...</td>\n",
       "      <td>0</td>\n",
       "      <td>0</td>\n",
       "      <td>0</td>\n",
       "      <td>0</td>\n",
       "      <td>800</td>\n",
       "      <td>4400</td>\n",
       "      <td>0</td>\n",
       "      <td>0</td>\n",
       "      <td>0</td>\n",
       "      <td>0</td>\n",
       "    </tr>\n",
       "    <tr>\n",
       "      <th>2</th>\n",
       "      <td>602</td>\n",
       "      <td>de_inferno</td>\n",
       "      <td>Terrorist</td>\n",
       "      <td>1</td>\n",
       "      <td>4</td>\n",
       "      <td>1</td>\n",
       "      <td>False</td>\n",
       "      <td>True</td>\n",
       "      <td>False</td>\n",
       "      <td>False</td>\n",
       "      <td>...</td>\n",
       "      <td>0</td>\n",
       "      <td>0</td>\n",
       "      <td>0</td>\n",
       "      <td>0</td>\n",
       "      <td>1000</td>\n",
       "      <td>4400</td>\n",
       "      <td>0</td>\n",
       "      <td>0</td>\n",
       "      <td>0</td>\n",
       "      <td>0</td>\n",
       "    </tr>\n",
       "    <tr>\n",
       "      <th>3</th>\n",
       "      <td>603</td>\n",
       "      <td>de_inferno</td>\n",
       "      <td>Terrorist</td>\n",
       "      <td>1</td>\n",
       "      <td>4</td>\n",
       "      <td>1</td>\n",
       "      <td>False</td>\n",
       "      <td>True</td>\n",
       "      <td>False</td>\n",
       "      <td>False</td>\n",
       "      <td>...</td>\n",
       "      <td>0</td>\n",
       "      <td>0</td>\n",
       "      <td>0</td>\n",
       "      <td>0</td>\n",
       "      <td>850</td>\n",
       "      <td>4400</td>\n",
       "      <td>0</td>\n",
       "      <td>0</td>\n",
       "      <td>0</td>\n",
       "      <td>0</td>\n",
       "    </tr>\n",
       "    <tr>\n",
       "      <th>4</th>\n",
       "      <td>604</td>\n",
       "      <td>de_inferno</td>\n",
       "      <td>Terrorist</td>\n",
       "      <td>1</td>\n",
       "      <td>4</td>\n",
       "      <td>1</td>\n",
       "      <td>False</td>\n",
       "      <td>True</td>\n",
       "      <td>True</td>\n",
       "      <td>False</td>\n",
       "      <td>...</td>\n",
       "      <td>0</td>\n",
       "      <td>0</td>\n",
       "      <td>0</td>\n",
       "      <td>0</td>\n",
       "      <td>1000</td>\n",
       "      <td>4400</td>\n",
       "      <td>0</td>\n",
       "      <td>0</td>\n",
       "      <td>0</td>\n",
       "      <td>0</td>\n",
       "    </tr>\n",
       "  </tbody>\n",
       "</table>\n",
       "<p>5 rows × 30 columns</p>\n",
       "</div>"
      ],
      "text/plain": [
       "   Unnamed: 0         Map       Team  InternalTeamId  MatchId  RoundId  \\\n",
       "0         600  de_inferno  Terrorist               1        4        1   \n",
       "1         601  de_inferno  Terrorist               1        4        1   \n",
       "2         602  de_inferno  Terrorist               1        4        1   \n",
       "3         603  de_inferno  Terrorist               1        4        1   \n",
       "4         604  de_inferno  Terrorist               1        4        1   \n",
       "\n",
       "  RoundWinner MatchWinner  Survived  AbnormalMatch  ... RoundKills  \\\n",
       "0       False        True     False          False  ...          0   \n",
       "1       False        True     False          False  ...          0   \n",
       "2       False        True     False          False  ...          0   \n",
       "3       False        True     False          False  ...          0   \n",
       "4       False        True      True          False  ...          0   \n",
       "\n",
       "  RoundAssists  RoundHeadshots  RoundFlankKills  RoundStartingEquipmentValue  \\\n",
       "0            0               0                0                          750   \n",
       "1            0               0                0                          800   \n",
       "2            0               0                0                         1000   \n",
       "3            0               0                0                          850   \n",
       "4            0               0                0                         1000   \n",
       "\n",
       "   TeamStartingEquipmentValue  MatchKills  MatchFlankKills  MatchAssists  \\\n",
       "0                        4400           0                0             0   \n",
       "1                        4400           0                0             0   \n",
       "2                        4400           0                0             0   \n",
       "3                        4400           0                0             0   \n",
       "4                        4400           0                0             0   \n",
       "\n",
       "  MatchHeadshots  \n",
       "0              0  \n",
       "1              0  \n",
       "2              0  \n",
       "3              0  \n",
       "4              0  \n",
       "\n",
       "[5 rows x 30 columns]"
      ]
     },
     "metadata": {},
     "output_type": "display_data"
    }
   ],
   "source": [
    "# De esta manera podemos tener una mejor visualización de la cab\n",
    "display(df.head())"
   ]
  },
  {
   "cell_type": "code",
   "execution_count": 24,
   "id": "1edee5a4",
   "metadata": {},
   "outputs": [
    {
     "name": "stdout",
     "output_type": "stream",
     "text": [
      "<class 'pandas.core.frame.DataFrame'>\n",
      "Int64Index: 79152 entries, 0 to 79156\n",
      "Data columns (total 30 columns):\n",
      " #   Column                       Non-Null Count  Dtype  \n",
      "---  ------                       --------------  -----  \n",
      " 0   Unnamed: 0                   79152 non-null  int64  \n",
      " 1   Map                          79152 non-null  object \n",
      " 2   Team                         79152 non-null  object \n",
      " 3   InternalTeamId               79152 non-null  int64  \n",
      " 4   MatchId                      79152 non-null  int64  \n",
      " 5   RoundId                      79152 non-null  int64  \n",
      " 6   RoundWinner                  79152 non-null  float64\n",
      " 7   MatchWinner                  79152 non-null  object \n",
      " 8   Survived                     79152 non-null  bool   \n",
      " 9   AbnormalMatch                79152 non-null  bool   \n",
      " 10  TimeAlive                    79152 non-null  object \n",
      " 11  TravelledDistance            79152 non-null  object \n",
      " 12  RLethalGrenadesThrown        79152 non-null  int64  \n",
      " 13  RNonLethalGrenadesThrown     79152 non-null  int64  \n",
      " 14  PrimaryAssaultRifle          79152 non-null  float64\n",
      " 15  PrimarySniperRifle           79152 non-null  float64\n",
      " 16  PrimaryHeavy                 79152 non-null  float64\n",
      " 17  PrimarySMG                   79152 non-null  float64\n",
      " 18  PrimaryPistol                79152 non-null  int64  \n",
      " 19  FirstKillTime                79152 non-null  object \n",
      " 20  RoundKills                   79152 non-null  int64  \n",
      " 21  RoundAssists                 79152 non-null  int64  \n",
      " 22  RoundHeadshots               79152 non-null  int64  \n",
      " 23  RoundFlankKills              79152 non-null  int64  \n",
      " 24  RoundStartingEquipmentValue  79152 non-null  int64  \n",
      " 25  TeamStartingEquipmentValue   79152 non-null  int64  \n",
      " 26  MatchKills                   79152 non-null  int64  \n",
      " 27  MatchFlankKills              79152 non-null  int64  \n",
      " 28  MatchAssists                 79152 non-null  int64  \n",
      " 29  MatchHeadshots               79152 non-null  int64  \n",
      "dtypes: bool(2), float64(5), int64(17), object(6)\n",
      "memory usage: 17.7+ MB\n"
     ]
    }
   ],
   "source": [
    "#Otra forma de chequear el set de datos\n",
    "df.info()"
   ]
  },
  {
   "cell_type": "code",
   "execution_count": null,
   "id": "26712138",
   "metadata": {},
   "outputs": [],
   "source": [
    "# Mostrar los tipos de datos de cada columna\n",
    "print(\"Tipos de datos:\")\n",
    "print(df.dtypes"
   ]
  },
  {
   "cell_type": "code",
   "execution_count": null,
   "id": "a2fea9bd",
   "metadata": {},
   "outputs": [],
   "source": [
    "# Se hizo un nuevo analisis en base al resultado anterior po lo que se debió delimitar por \";\" al archivo para poder obtener una mejor visualización.\n",
    "df = pd.read_csv('Anexo ET_demo_round_traces.csv', delimiter=';',low_memory=False)"
   ]
  },
  {
   "cell_type": "code",
   "execution_count": 7,
   "id": "6ef49343",
   "metadata": {},
   "outputs": [
    {
     "name": "stdout",
     "output_type": "stream",
     "text": [
      "Tipos de datos:\n",
      "Unnamed: 0                       int64\n",
      "Map                             object\n",
      "Team                            object\n",
      "InternalTeamId                   int64\n",
      "MatchId                          int64\n",
      "RoundId                          int64\n",
      "RoundWinner                     object\n",
      "MatchWinner                     object\n",
      "Survived                          bool\n",
      "AbnormalMatch                     bool\n",
      "TimeAlive                       object\n",
      "TravelledDistance               object\n",
      "RLethalGrenadesThrown            int64\n",
      "RNonLethalGrenadesThrown         int64\n",
      "PrimaryAssaultRifle            float64\n",
      "PrimarySniperRifle             float64\n",
      "PrimaryHeavy                   float64\n",
      "PrimarySMG                     float64\n",
      "PrimaryPistol                    int64\n",
      "FirstKillTime                   object\n",
      "RoundKills                       int64\n",
      "RoundAssists                     int64\n",
      "RoundHeadshots                   int64\n",
      "RoundFlankKills                  int64\n",
      "RoundStartingEquipmentValue      int64\n",
      "TeamStartingEquipmentValue       int64\n",
      "MatchKills                       int64\n",
      "MatchFlankKills                  int64\n",
      "MatchAssists                     int64\n",
      "MatchHeadshots                   int64\n",
      "dtype: object\n"
     ]
    }
   ],
   "source": [
    "# Mostrar los tipos de datos de cada columna\n",
    "print(\"Tipos de datos:\")\n",
    "print(df.dtypes)"
   ]
  },
  {
   "cell_type": "code",
   "execution_count": 8,
   "id": "ec909bdc",
   "metadata": {},
   "outputs": [
    {
     "name": "stdout",
     "output_type": "stream",
     "text": [
      "Valores nulos:\n",
      "Unnamed: 0                     0\n",
      "Map                            0\n",
      "Team                           2\n",
      "InternalTeamId                 0\n",
      "MatchId                        0\n",
      "RoundId                        0\n",
      "RoundWinner                    0\n",
      "MatchWinner                    1\n",
      "Survived                       0\n",
      "AbnormalMatch                  0\n",
      "TimeAlive                      0\n",
      "TravelledDistance              2\n",
      "RLethalGrenadesThrown          0\n",
      "RNonLethalGrenadesThrown       0\n",
      "PrimaryAssaultRifle            0\n",
      "PrimarySniperRifle             0\n",
      "PrimaryHeavy                   0\n",
      "PrimarySMG                     0\n",
      "PrimaryPistol                  0\n",
      "FirstKillTime                  0\n",
      "RoundKills                     0\n",
      "RoundAssists                   0\n",
      "RoundHeadshots                 0\n",
      "RoundFlankKills                0\n",
      "RoundStartingEquipmentValue    0\n",
      "TeamStartingEquipmentValue     0\n",
      "MatchKills                     0\n",
      "MatchFlankKills                0\n",
      "MatchAssists                   0\n",
      "MatchHeadshots                 0\n",
      "dtype: int64\n"
     ]
    }
   ],
   "source": [
    "# Verificar si hay valores nulos en el dataframe, para la hipotesis palnteanda no es necesario modificar o eliminar los valores nulos.\n",
    "print(\"Valores nulos:\")\n",
    "print(df.isnull().sum())\n",
    "\n",
    "#si quiesieramos elimnar las filas con valores nulos entonces tendriamos que utilizar: df = df.dropna()"
   ]
  },
  {
   "cell_type": "code",
   "execution_count": 9,
   "id": "f52919f6",
   "metadata": {},
   "outputs": [
    {
     "name": "stdout",
     "output_type": "stream",
     "text": [
      "0\n"
     ]
    }
   ],
   "source": [
    "#Para ver si day datos duplicados\n",
    "print(df.duplicated().sum())"
   ]
  },
  {
   "cell_type": "code",
   "execution_count": 10,
   "id": "b25b6c2b",
   "metadata": {},
   "outputs": [
    {
     "name": "stdout",
     "output_type": "stream",
     "text": [
      "                             Unnamed: 0  InternalTeamId   MatchId   RoundId  \\\n",
      "Unnamed: 0                     1.000000        0.000095  0.999979  0.003375   \n",
      "InternalTeamId                 0.000095        1.000000  0.000027 -0.000008   \n",
      "MatchId                        0.999979        0.000027  1.000000  0.001476   \n",
      "RoundId                        0.003375       -0.000008  0.001476  1.000000   \n",
      "Survived                      -0.003245        0.044872 -0.003239 -0.015361   \n",
      "AbnormalMatch                       NaN             NaN       NaN       NaN   \n",
      "RLethalGrenadesThrown          0.002911        0.039136  0.003009  0.065327   \n",
      "RNonLethalGrenadesThrown      -0.009307       -0.005408 -0.009234  0.073314   \n",
      "PrimaryAssaultRifle           -0.027305        0.001750 -0.027313  0.085892   \n",
      "PrimarySniperRifle             0.043187        0.042205  0.043119  0.026291   \n",
      "PrimaryHeavy                   0.003781        0.006337  0.003769 -0.003975   \n",
      "PrimarySMG                     0.017790        0.004186  0.017847 -0.029860   \n",
      "PrimaryPistol                 -0.002799       -0.032361 -0.002753 -0.107013   \n",
      "RoundKills                     0.003284        0.033085  0.003271  0.009134   \n",
      "RoundAssists                   0.003202        0.019489  0.003197 -0.002503   \n",
      "RoundHeadshots                -0.023346        0.006104 -0.023296 -0.003344   \n",
      "RoundFlankKills                0.005116        0.020169  0.005110  0.010332   \n",
      "RoundStartingEquipmentValue    0.013323        0.067674  0.013234  0.117606   \n",
      "TeamStartingEquipmentValue     0.014461        0.073339  0.014364  0.127420   \n",
      "MatchKills                     0.009537        0.109532  0.008026  0.807501   \n",
      "MatchFlankKills                0.018839        0.169996  0.017832  0.509277   \n",
      "MatchAssists                   0.013544        0.112188  0.012419  0.588535   \n",
      "MatchHeadshots                -0.051163        0.008841 -0.052360  0.688221   \n",
      "\n",
      "                             Survived  AbnormalMatch  RLethalGrenadesThrown  \\\n",
      "Unnamed: 0                  -0.003245            NaN               0.002911   \n",
      "InternalTeamId               0.044872            NaN               0.039136   \n",
      "MatchId                     -0.003239            NaN               0.003009   \n",
      "RoundId                     -0.015361            NaN               0.065327   \n",
      "Survived                     1.000000            NaN               0.171732   \n",
      "AbnormalMatch                     NaN            NaN                    NaN   \n",
      "RLethalGrenadesThrown        0.171732            NaN               1.000000   \n",
      "RNonLethalGrenadesThrown     0.125064            NaN               0.382635   \n",
      "PrimaryAssaultRifle          0.110008            NaN               0.326426   \n",
      "PrimarySniperRifle           0.067100            NaN              -0.018635   \n",
      "PrimaryHeavy                 0.002006            NaN              -0.023267   \n",
      "PrimarySMG                   0.026469            NaN               0.003408   \n",
      "PrimaryPistol               -0.173705            NaN              -0.348568   \n",
      "RoundKills                   0.331619            NaN               0.162721   \n",
      "RoundAssists                -0.063264            NaN               0.093738   \n",
      "RoundHeadshots               0.205279            NaN               0.080361   \n",
      "RoundFlankKills              0.139673            NaN               0.073273   \n",
      "RoundStartingEquipmentValue  0.170578            NaN               0.438817   \n",
      "TeamStartingEquipmentValue   0.173237            NaN               0.466507   \n",
      "MatchKills                   0.059445            NaN               0.110577   \n",
      "MatchFlankKills              0.041533            NaN               0.086692   \n",
      "MatchAssists                -0.008001            NaN               0.106277   \n",
      "MatchHeadshots               0.047407            NaN               0.092965   \n",
      "\n",
      "                             RNonLethalGrenadesThrown  PrimaryAssaultRifle  \\\n",
      "Unnamed: 0                                  -0.009307            -0.027305   \n",
      "InternalTeamId                              -0.005408             0.001750   \n",
      "MatchId                                     -0.009234            -0.027313   \n",
      "RoundId                                      0.073314             0.085892   \n",
      "Survived                                     0.125064             0.110008   \n",
      "AbnormalMatch                                     NaN                  NaN   \n",
      "RLethalGrenadesThrown                        0.382635             0.326426   \n",
      "RNonLethalGrenadesThrown                     1.000000             0.339062   \n",
      "PrimaryAssaultRifle                          0.339062             1.000000   \n",
      "PrimarySniperRifle                          -0.023421            -0.440642   \n",
      "PrimaryHeavy                                -0.027057            -0.108901   \n",
      "PrimarySMG                                  -0.026666            -0.119824   \n",
      "PrimaryPistol                               -0.352804            -0.776826   \n",
      "RoundKills                                   0.148663             0.127903   \n",
      "RoundAssists                                 0.021319             0.065941   \n",
      "RoundHeadshots                               0.100812             0.119863   \n",
      "RoundFlankKills                              0.054749             0.063766   \n",
      "RoundStartingEquipmentValue                  0.368180             0.518780   \n",
      "TeamStartingEquipmentValue                   0.403791             0.627534   \n",
      "MatchKills                                   0.099642             0.095224   \n",
      "MatchFlankKills                              0.063542             0.087460   \n",
      "MatchAssists                                 0.073994             0.103451   \n",
      "MatchHeadshots                               0.092548             0.142642   \n",
      "\n",
      "                             PrimarySniperRifle  ...  RoundKills  \\\n",
      "Unnamed: 0                             0.043187  ...    0.003284   \n",
      "InternalTeamId                         0.042205  ...    0.033085   \n",
      "MatchId                                0.043119  ...    0.003271   \n",
      "RoundId                                0.026291  ...    0.009134   \n",
      "Survived                               0.067100  ...    0.331619   \n",
      "AbnormalMatch                               NaN  ...         NaN   \n",
      "RLethalGrenadesThrown                 -0.018635  ...    0.162721   \n",
      "RNonLethalGrenadesThrown              -0.023421  ...    0.148663   \n",
      "PrimaryAssaultRifle                   -0.440642  ...    0.127903   \n",
      "PrimarySniperRifle                     1.000000  ...    0.072187   \n",
      "PrimaryHeavy                          -0.024840  ...    0.001692   \n",
      "PrimarySMG                            -0.026602  ...    0.018592   \n",
      "PrimaryPistol                         -0.171415  ...   -0.195501   \n",
      "RoundKills                             0.072187  ...    1.000000   \n",
      "RoundAssists                          -0.030621  ...   -0.021482   \n",
      "RoundHeadshots                        -0.083883  ...    0.679179   \n",
      "RoundFlankKills                        0.004260  ...    0.391406   \n",
      "RoundStartingEquipmentValue            0.334221  ...    0.172141   \n",
      "TeamStartingEquipmentValue             0.199256  ...    0.168600   \n",
      "MatchKills                             0.069314  ...    0.183402   \n",
      "MatchFlankKills                        0.001269  ...    0.115988   \n",
      "MatchAssists                          -0.016344  ...    0.019540   \n",
      "MatchHeadshots                        -0.057624  ...    0.152600   \n",
      "\n",
      "                             RoundAssists  RoundHeadshots  RoundFlankKills  \\\n",
      "Unnamed: 0                       0.003202       -0.023346         0.005116   \n",
      "InternalTeamId                   0.019489        0.006104         0.020169   \n",
      "MatchId                          0.003197       -0.023296         0.005110   \n",
      "RoundId                         -0.002503       -0.003344         0.010332   \n",
      "Survived                        -0.063264        0.205279         0.139673   \n",
      "AbnormalMatch                         NaN             NaN              NaN   \n",
      "RLethalGrenadesThrown            0.093738        0.080361         0.073273   \n",
      "RNonLethalGrenadesThrown         0.021319        0.100812         0.054749   \n",
      "PrimaryAssaultRifle              0.065941        0.119863         0.063766   \n",
      "PrimarySniperRifle              -0.030621       -0.083883         0.004260   \n",
      "PrimaryHeavy                     0.002628       -0.002897         0.008143   \n",
      "PrimarySMG                       0.012162        0.012835         0.001398   \n",
      "PrimaryPistol                   -0.055935       -0.079434        -0.075863   \n",
      "RoundKills                      -0.021482        0.679179         0.391406   \n",
      "RoundAssists                     1.000000       -0.017335        -0.000058   \n",
      "RoundHeadshots                  -0.017335        1.000000         0.233419   \n",
      "RoundFlankKills                 -0.000058        0.233419         1.000000   \n",
      "RoundStartingEquipmentValue      0.055227        0.035972         0.069842   \n",
      "TeamStartingEquipmentValue       0.067011        0.047938         0.076407   \n",
      "MatchKills                       0.003477        0.112018         0.078891   \n",
      "MatchFlankKills                  0.008084        0.063589         0.248839   \n",
      "MatchAssists                     0.227472        0.004592         0.010769   \n",
      "MatchHeadshots                  -0.000812        0.213817         0.062925   \n",
      "\n",
      "                             RoundStartingEquipmentValue  \\\n",
      "Unnamed: 0                                      0.013323   \n",
      "InternalTeamId                                  0.067674   \n",
      "MatchId                                         0.013234   \n",
      "RoundId                                         0.117606   \n",
      "Survived                                        0.170578   \n",
      "AbnormalMatch                                        NaN   \n",
      "RLethalGrenadesThrown                           0.438817   \n",
      "RNonLethalGrenadesThrown                        0.368180   \n",
      "PrimaryAssaultRifle                             0.518780   \n",
      "PrimarySniperRifle                              0.334221   \n",
      "PrimaryHeavy                                   -0.037131   \n",
      "PrimarySMG                                     -0.025325   \n",
      "PrimaryPistol                                  -0.792876   \n",
      "RoundKills                                      0.172141   \n",
      "RoundAssists                                    0.055227   \n",
      "RoundHeadshots                                  0.035972   \n",
      "RoundFlankKills                                 0.069842   \n",
      "RoundStartingEquipmentValue                     1.000000   \n",
      "TeamStartingEquipmentValue                      0.922943   \n",
      "MatchKills                                      0.179080   \n",
      "MatchFlankKills                                 0.115976   \n",
      "MatchAssists                                    0.112696   \n",
      "MatchHeadshots                                  0.116417   \n",
      "\n",
      "                             TeamStartingEquipmentValue  MatchKills  \\\n",
      "Unnamed: 0                                     0.014461    0.009537   \n",
      "InternalTeamId                                 0.073339    0.109532   \n",
      "MatchId                                        0.014364    0.008026   \n",
      "RoundId                                        0.127420    0.807501   \n",
      "Survived                                       0.173237    0.059445   \n",
      "AbnormalMatch                                       NaN         NaN   \n",
      "RLethalGrenadesThrown                          0.466507    0.110577   \n",
      "RNonLethalGrenadesThrown                       0.403791    0.099642   \n",
      "PrimaryAssaultRifle                            0.627534    0.095224   \n",
      "PrimarySniperRifle                             0.199256    0.069314   \n",
      "PrimaryHeavy                                  -0.022217   -0.009765   \n",
      "PrimarySMG                                    -0.013120   -0.021469   \n",
      "PrimaryPistol                                 -0.828608   -0.147026   \n",
      "RoundKills                                     0.168600    0.183402   \n",
      "RoundAssists                                   0.067011    0.003477   \n",
      "RoundHeadshots                                 0.047938    0.112018   \n",
      "RoundFlankKills                                0.076407    0.078891   \n",
      "RoundStartingEquipmentValue                    0.922943    0.179080   \n",
      "TeamStartingEquipmentValue                     1.000000    0.178526   \n",
      "MatchKills                                     0.178526    1.000000   \n",
      "MatchFlankKills                                0.122455    0.641599   \n",
      "MatchAssists                                   0.135532    0.510016   \n",
      "MatchHeadshots                                 0.132275    0.831450   \n",
      "\n",
      "                             MatchFlankKills  MatchAssists  MatchHeadshots  \n",
      "Unnamed: 0                          0.018839      0.013544       -0.051163  \n",
      "InternalTeamId                      0.169996      0.112188        0.008841  \n",
      "MatchId                             0.017832      0.012419       -0.052360  \n",
      "RoundId                             0.509277      0.588535        0.688221  \n",
      "Survived                            0.041533     -0.008001        0.047407  \n",
      "AbnormalMatch                            NaN           NaN             NaN  \n",
      "RLethalGrenadesThrown               0.086692      0.106277        0.092965  \n",
      "RNonLethalGrenadesThrown            0.063542      0.073994        0.092548  \n",
      "PrimaryAssaultRifle                 0.087460      0.103451        0.142642  \n",
      "PrimarySniperRifle                  0.001269     -0.016344       -0.057624  \n",
      "PrimaryHeavy                       -0.000579     -0.002852       -0.004694  \n",
      "PrimarySMG                         -0.013826     -0.010295       -0.016383  \n",
      "PrimaryPistol                      -0.095713     -0.102003       -0.116441  \n",
      "RoundKills                          0.115988      0.019540        0.152600  \n",
      "RoundAssists                        0.008084      0.227472       -0.000812  \n",
      "RoundHeadshots                      0.063589      0.004592        0.213817  \n",
      "RoundFlankKills                     0.248839      0.010769        0.062925  \n",
      "RoundStartingEquipmentValue         0.115976      0.112696        0.116417  \n",
      "TeamStartingEquipmentValue          0.122455      0.135532        0.132275  \n",
      "MatchKills                          0.641599      0.510016        0.831450  \n",
      "MatchFlankKills                     1.000000      0.337655        0.516180  \n",
      "MatchAssists                        0.337655      1.000000        0.415551  \n",
      "MatchHeadshots                      0.516180      0.415551        1.000000  \n",
      "\n",
      "[23 rows x 23 columns]\n"
     ]
    },
    {
     "name": "stderr",
     "output_type": "stream",
     "text": [
      "C:\\Users\\Pablo\\AppData\\Local\\Temp\\ipykernel_12832\\2565540567.py:2: FutureWarning: The default value of numeric_only in DataFrame.corr is deprecated. In a future version, it will default to False. Select only valid columns or specify the value of numeric_only to silence this warning.\n",
      "  matriz_correlacion = df.corr()\n"
     ]
    }
   ],
   "source": [
    "# Así podemos enlistar la matriz de correlación\n",
    "matriz_correlacion = df.corr()\n",
    "print (matriz_correlacion)"
   ]
  },
  {
   "cell_type": "markdown",
   "id": "780bee20",
   "metadata": {},
   "source": [
    "# fase 2"
   ]
  },
  {
   "cell_type": "code",
   "execution_count": 11,
   "id": "65eca250",
   "metadata": {},
   "outputs": [],
   "source": [
    "#FASE 2\n",
    "import pandas as pd\n",
    "import matplotlib.pyplot as plt\n",
    "\n",
    "# Cargar el archivo\n",
    "df = pd.read_csv('Anexo ET_demo_round_traces.csv', delimiter=';',low_memory=False)"
   ]
  },
  {
   "cell_type": "code",
   "execution_count": 20,
   "id": "1af7b804",
   "metadata": {},
   "outputs": [
    {
     "name": "stdout",
     "output_type": "stream",
     "text": [
      "Unnamed: 0                     0\n",
      "Map                            0\n",
      "Team                           0\n",
      "InternalTeamId                 0\n",
      "MatchId                        0\n",
      "RoundId                        0\n",
      "RoundWinner                    0\n",
      "MatchWinner                    0\n",
      "Survived                       0\n",
      "AbnormalMatch                  0\n",
      "TimeAlive                      0\n",
      "TravelledDistance              0\n",
      "RLethalGrenadesThrown          0\n",
      "RNonLethalGrenadesThrown       0\n",
      "PrimaryAssaultRifle            0\n",
      "PrimarySniperRifle             0\n",
      "PrimaryHeavy                   0\n",
      "PrimarySMG                     0\n",
      "PrimaryPistol                  0\n",
      "FirstKillTime                  0\n",
      "RoundKills                     0\n",
      "RoundAssists                   0\n",
      "RoundHeadshots                 0\n",
      "RoundFlankKills                0\n",
      "RoundStartingEquipmentValue    0\n",
      "TeamStartingEquipmentValue     0\n",
      "MatchKills                     0\n",
      "MatchFlankKills                0\n",
      "MatchAssists                   0\n",
      "MatchHeadshots                 0\n",
      "dtype: int64\n"
     ]
    }
   ],
   "source": [
    "# contar los valores faltantes en cada columna\n",
    "num_missing = df.isna().sum()\n",
    "\n",
    "# mostrar el resultado\n",
    "print(num_missing)\n",
    "\n",
    "train.columns[train.isnull().any()]"
   ]
  },
  {
   "cell_type": "code",
   "execution_count": 13,
   "id": "b4c650c6",
   "metadata": {},
   "outputs": [
    {
     "name": "stdout",
     "output_type": "stream",
     "text": [
      "MatchId  RoundId\n",
      "4        1          1\n",
      "         2          1\n",
      "         3          3\n",
      "         4          4\n",
      "         5          3\n",
      "                   ..\n",
      "511      1          2\n",
      "         2          3\n",
      "         3          2\n",
      "         4          4\n",
      "         5          4\n",
      "Name: RLethalGrenadesThrown, Length: 7916, dtype: int64\n"
     ]
    }
   ],
   "source": [
    "#Para evaluar la hipótesis de que existe una relación entre una kill con una granada y\n",
    "#la probabilidad de ganar una ronda, se podría aplicar un análisis de correlación para determinar\n",
    "#si existe una correlación entre estas dos variables.\n",
    "\n",
    "#En particular, podríamos calcular el coeficiente de correlación de Pearson entre la \n",
    "#variable \"RLethalGrenadesThrown\" (cantidad de kills con granadas letales) y la variable \"RoundWinner\" (si el jugador \n",
    " #ganó o no la ronda), ya que esto nos permitiría evaluar la fuerza y dirección de la relación entre estas dos variables.\n",
    "\n",
    "#Un valor positivo de correlación indicaría que hay una relación directa entre el número de kills con granadas letales y \n",
    "#la probabilidad de ganar una ronda, mientras que un valor negativo indicaría una relación inversa. Sin embargo, un valor\n",
    "#cercano a cero indicaría que no hay relación entre ambas variables.\n",
    "\n",
    "\n",
    "muertes_por_granada = df.groupby(['MatchId', 'RoundId'])['RLethalGrenadesThrown'].sum()\n",
    "print(muertes_por_granada)\n"
   ]
  },
  {
   "cell_type": "code",
   "execution_count": 15,
   "id": "3c970533",
   "metadata": {},
   "outputs": [],
   "source": [
    "#Para el caso de la hipotesis planteada sobre que se espera que un jugador tenga más probabilidades de ganar una ronda si este\n",
    "# obtener una kill con una granada, para poder hacer una correlación entre estos, se debe cambiar los datos de la columna \"RoundWinner\"\n",
    "# ya que este esta como tipo object (como se aprecia en la lista de valores anteriormente), por lo cual se convierte a 1 el valor \"True\" y a 0 \"False\"\n",
    "# Esta es una manera en la que podríamos tratar estos valores\n",
    "def convert_to_numeric(value):\n",
    "    if value == 'True':\n",
    "        return 1\n",
    "    elif value == 'False':\n",
    "        return 0\n",
    "    else:\n",
    "        return None\n",
    "\n",
    "df['RoundWinner'] = df['RoundWinner'].apply(convert_to_numeric)\n",
    "df = df.dropna()"
   ]
  },
  {
   "cell_type": "code",
   "execution_count": 17,
   "id": "6df3624c",
   "metadata": {},
   "outputs": [
    {
     "name": "stdout",
     "output_type": "stream",
     "text": [
      "Correlación:  -0.2224721556511561\n"
     ]
    }
   ],
   "source": [
    "#Una correlación de -0.2256560222972596 significa que hay una relación negativa débil entre las variables\n",
    "#RLethalGrenadesThrown (cantidad de granadas letales lanzadas) y RoundWinner (victoria o derrota en una ronda).\n",
    "#Esto sugiere que existe una tendencia a que los jugadores que lanzan menos granadas letales tengan una mayor probabilidad\n",
    "#de ganar una ronda en comparación con los jugadores que lanzan más granadas letales. Sin embargo, debido a que la correlación \n",
    "#es débil, es posible que otros factores tengan un mayor impacto en la victoria en una ronda.\n",
    "\n",
    "corr = df['RoundWinner'].corr(df['RLethalGrenadesThrown'])\n",
    "\n",
    "print('Correlación: ', corr)"
   ]
  },
  {
   "cell_type": "code",
   "execution_count": 43,
   "id": "eb67b596",
   "metadata": {},
   "outputs": [
    {
     "data": {
      "text/plain": [
       "Unnamed: 0                     60573.877678\n",
       "InternalTeamId                     1.499987\n",
       "MatchId                          250.540188\n",
       "RoundId                           12.765830\n",
       "RoundWinner                        0.499874\n",
       "Survived                           0.403515\n",
       "AbnormalMatch                      0.000000\n",
       "RLethalGrenadesThrown              0.498686\n",
       "RNonLethalGrenadesThrown           1.258136\n",
       "PrimaryAssaultRifle                0.675368\n",
       "PrimarySniperRifle                 0.089846\n",
       "PrimaryHeavy                       0.005964\n",
       "PrimarySMG                         0.007034\n",
       "PrimaryPistol                      0.221788\n",
       "RoundKills                         0.671379\n",
       "RoundAssists                       0.146187\n",
       "RoundHeadshots                     0.301572\n",
       "RoundFlankKills                    0.095639\n",
       "RoundStartingEquipmentValue     3778.179326\n",
       "TeamStartingEquipmentValue     18890.404538\n",
       "MatchKills                         8.511775\n",
       "MatchFlankKills                    1.209963\n",
       "MatchAssists                       1.874861\n",
       "MatchHeadshots                     3.858487\n",
       "dtype: float64"
      ]
     },
     "execution_count": 43,
     "metadata": {},
     "output_type": "execute_result"
    }
   ],
   "source": [
    "#De esta manera podemos analizar la media de todas las columnas que cuentan con un valor numerico,\n",
    "#aquellas que no deben ser transformados, para efectos de nuestra hipotesis se hizo una conversión anteriormente.\n",
    "df.mean(numeric_only=True)"
   ]
  },
  {
   "cell_type": "code",
   "execution_count": 42,
   "id": "8388702f",
   "metadata": {},
   "outputs": [
    {
     "data": {
      "text/plain": [
       "Unnamed: 0                     56722.5\n",
       "InternalTeamId                     1.0\n",
       "MatchId                          236.0\n",
       "RoundId                           12.0\n",
       "RoundWinner                        0.0\n",
       "Survived                           0.0\n",
       "AbnormalMatch                      0.0\n",
       "RLethalGrenadesThrown              0.0\n",
       "RNonLethalGrenadesThrown           1.0\n",
       "PrimaryAssaultRifle                1.0\n",
       "PrimarySniperRifle                 0.0\n",
       "PrimaryHeavy                       0.0\n",
       "PrimarySMG                         0.0\n",
       "PrimaryPistol                      0.0\n",
       "RoundKills                         0.0\n",
       "RoundAssists                       0.0\n",
       "RoundHeadshots                     0.0\n",
       "RoundFlankKills                    0.0\n",
       "RoundStartingEquipmentValue     4700.0\n",
       "TeamStartingEquipmentValue     22550.0\n",
       "MatchKills                         8.0\n",
       "MatchFlankKills                    1.0\n",
       "MatchAssists                       1.0\n",
       "MatchHeadshots                     3.0\n",
       "dtype: float64"
      ]
     },
     "execution_count": 42,
     "metadata": {},
     "output_type": "execute_result"
    }
   ],
   "source": [
    "#De esta manera podemos analizar la mediana de todas las columnas que cuentan con un valor numerico,\n",
    "#aquellas que no deben ser transformados, para efectos de nuestra hipotesis se hizo una conversión anteriormente.\n",
    "df.median(numeric_only=True)"
   ]
  },
  {
   "cell_type": "code",
   "execution_count": 31,
   "id": "53b8d157",
   "metadata": {},
   "outputs": [
    {
     "data": {
      "text/plain": [
       "0.49868607236709117"
      ]
     },
     "execution_count": 31,
     "metadata": {},
     "output_type": "execute_result"
    }
   ],
   "source": [
    "#De esta forma vemos la media especifica de la columna \"RLethalGrenadesThrown\"\n",
    "df.RLethalGrenadesThrown.mean()"
   ]
  },
  {
   "cell_type": "code",
   "execution_count": 32,
   "id": "9fb6034d",
   "metadata": {},
   "outputs": [
    {
     "data": {
      "text/plain": [
       "0.499873660804528"
      ]
     },
     "execution_count": 32,
     "metadata": {},
     "output_type": "execute_result"
    }
   ],
   "source": [
    "#De esta forma vemos la media especifica de la columna \"RoundWinner\"\n",
    "df.RoundWinner.mean()"
   ]
  },
  {
   "cell_type": "code",
   "execution_count": 30,
   "id": "00a27051",
   "metadata": {},
   "outputs": [
    {
     "name": "stdout",
     "output_type": "stream",
     "text": [
      "La varianza es: 0.2499999840383509\n"
     ]
    }
   ],
   "source": [
    "# Calcular la varianza de la columna 'nombre_de_la_columna'\n",
    "varianza = np.var(df['RoundWinner'])\n",
    "\n",
    "print('La varianza es:', varianza)"
   ]
  },
  {
   "cell_type": "code",
   "execution_count": 29,
   "id": "82cbab07",
   "metadata": {},
   "outputs": [
    {
     "name": "stdout",
     "output_type": "stream",
     "text": [
      "La varianza es: 0.35758873245771267\n"
     ]
    }
   ],
   "source": [
    "# Calcular la varianza de la columna 'nombre_de_la_columna'\n",
    "varianza = np.var(df['RLethalGrenadesThrown'])\n",
    "\n",
    "print('La varianza es:', varianza)"
   ]
  },
  {
   "cell_type": "code",
   "execution_count": 28,
   "id": "91b7a40d",
   "metadata": {},
   "outputs": [
    {
     "data": {
      "text/plain": [
       "0.49868607236709117"
      ]
     },
     "execution_count": 28,
     "metadata": {},
     "output_type": "execute_result"
    }
   ],
   "source": [
    "df.RLethalGrenadesThrown.mean()\n"
   ]
  },
  {
   "cell_type": "code",
   "execution_count": 72,
   "id": "40c8cddb",
   "metadata": {},
   "outputs": [
    {
     "name": "stdout",
     "output_type": "stream",
     "text": [
      "36150.0\n",
      "600.0\n",
      "35550.0\n"
     ]
    }
   ],
   "source": [
    "#De esta manera obtenemos el rango, en esta caso utilizamos la columna de \"valor de equipamiento promedio del equipo\", en este\n",
    "#caso habian valores que no tenian registros y que contaban con valor 0 lo cual es imposible ya que cada ronda se obtienen creditos\n",
    "df[\"TeamStartingEquipmentValue\"] = df[\"TeamStartingEquipmentValue\"].replace(0, float(\"nan\"))\n",
    "maximo = df[\"TeamStartingEquipmentValue\"].max()\n",
    "minimo = df[\"TeamStartingEquipmentValue\"].min()\n",
    "rango = maximo - minimo\n",
    "\n",
    "print(maximo)\n",
    "print(minimo)\n",
    "print(rango)"
   ]
  },
  {
   "cell_type": "code",
   "execution_count": 73,
   "id": "5a349353",
   "metadata": {},
   "outputs": [
    {
     "name": "stdout",
     "output_type": "stream",
     "text": [
      "[3750. 1300. 2000. 1700. 1800. 1400. 3650. 1200. 2150. 1000.  800. 2300.\n",
      " 3700. 1500. 1100. 1900. 2400.  600. 1600. 2900. 2700. 2200. 3850. 3900.\n",
      " 3200. 2750. 3800. 2600. 2350. 2100. 2500. 3400. 3500. 2250. 3000. 3300.\n",
      " 2800. 3450. 2850. 1650. 3600. 3350. 3950. 2050. 3250. 3050. 3550. 3150.\n",
      " 3100. 1150. 1450. 2650. 2550. 2450. 1850. 1750. 1350. 2950. 1950.]\n"
     ]
    }
   ],
   "source": [
    "#Con el resultado anterior podemos apreciar que eliminando el valor 0 el siguiente más bajo que le sigue es el 600 lo cual es imposible\n",
    "# ya que cada jugador comienza como minimo con 800 de creditos lo cual se puede interpretar que lo minimo por equipo es de 4000 creditos\n",
    "# lo que se hace a continuación es mostrar aquellos valores menores a 400 de la columna \"TeamStartingEquipmentValue\"\n",
    "mask = df['TeamStartingEquipmentValue'] < 4000\n",
    "valores_posibles = df.loc[mask, 'TeamStartingEquipmentValue'].unique()\n",
    "\n",
    "print(valores_posibles)"
   ]
  },
  {
   "cell_type": "code",
   "execution_count": 79,
   "id": "3f26a0cb",
   "metadata": {},
   "outputs": [
    {
     "name": "stdout",
     "output_type": "stream",
     "text": [
      "36150.0\n",
      "4000.0\n",
      "32150.0\n"
     ]
    }
   ],
   "source": [
    "# de la misma manera que anteriormente reemplazando el 0, se reemplazan aquellos valores que obtuvimos del bloque anterior.\n",
    "#De esta manera asumimos que obtenemos un rango más acertado\n",
    "df[\"TeamStartingEquipmentValue\"] = df[\"TeamStartingEquipmentValue\"].replace([3750, 1300, 2000, 1700, 1800, 1400, 3650, 1200, 2150, 1000,  800, 2300,\n",
    " 3700, 1500, 1100, 1900, 2400,  600, 1600, 2900, 2700, 2200, 3850, 3900, 3200, 2750, 3800, 2600, 2350, 2100, 2500, 3400, 3500, 2250, 3000, 3300,\n",
    " 2800, 3450, 2850, 1650, 3600, 3350, 3950, 2050, 3250, 3050, 3550, 3150, 3100, 1150, 1450, 2650, 2550, 2450, 1850, 1750, 1350, 2950, 1950,], float(\"nan\"))\n",
    "maximo = df[\"TeamStartingEquipmentValue\"].max()\n",
    "minimo = df[\"TeamStartingEquipmentValue\"].min()\n",
    "rango = maximo - minimo\n",
    "\n",
    "print(maximo)\n",
    "print(minimo)\n",
    "print(rango)"
   ]
  },
  {
   "cell_type": "code",
   "execution_count": 80,
   "id": "cb35c4bb",
   "metadata": {},
   "outputs": [
    {
     "name": "stdout",
     "output_type": "stream",
     "text": [
      "0.5979910118572579\n"
     ]
    }
   ],
   "source": [
    "#De esta manera podemos calcular la desviación estandar de la columna \"RLethalGrenadesThrown\"\n",
    "desviacion_estandar = df['RLethalGrenadesThrown'].std()\n",
    "print(desviacion_estandar)"
   ]
  },
  {
   "cell_type": "code",
   "execution_count": 82,
   "id": "279b64e5",
   "metadata": {},
   "outputs": [
    {
     "name": "stdout",
     "output_type": "stream",
     "text": [
      "119.91255972353913\n"
     ]
    }
   ],
   "source": [
    "#De esta manera podemos calcular el coeficiente de variación de la columna \"RLethalGrenadesThrown\"\n",
    "coef_var_edad = np.std(df['RLethalGrenadesThrown']) / np.mean(df['RLethalGrenadesThrown']) * 100\n",
    "print(coef_var_edad)"
   ]
  },
  {
   "cell_type": "code",
   "execution_count": 83,
   "id": "147b8cba",
   "metadata": {},
   "outputs": [
    {
     "data": {
      "text/plain": [
       "0.25    19550.0\n",
       "0.50    23500.0\n",
       "0.75    26750.0\n",
       "Name: TeamStartingEquipmentValue, dtype: float64"
      ]
     },
     "execution_count": 83,
     "metadata": {},
     "output_type": "execute_result"
    }
   ],
   "source": [
    "#De esta manera obtenemos los cuartiles de la columna \"TeamStartingEquipmentValue\"\n",
    "df['TeamStartingEquipmentValue'].quantile([.25, .5, .75])"
   ]
  },
  {
   "cell_type": "code",
   "execution_count": 84,
   "id": "ff08c6e0",
   "metadata": {},
   "outputs": [
    {
     "data": {
      "text/plain": [
       "0.25    0.0\n",
       "0.50    0.0\n",
       "0.75    1.0\n",
       "Name: RLethalGrenadesThrown, dtype: float64"
      ]
     },
     "execution_count": 84,
     "metadata": {},
     "output_type": "execute_result"
    }
   ],
   "source": [
    "#De esta manera obtenemos los cuartiles de la columna \"RLethalGrenadesThrown\"\n",
    "df['RLethalGrenadesThrown'].quantile([.25, .5, .75])"
   ]
  },
  {
   "cell_type": "code",
   "execution_count": null,
   "id": "689c203b",
   "metadata": {},
   "outputs": [],
   "source": []
  }
 ],
 "metadata": {
  "kernelspec": {
   "display_name": "Python 3 (ipykernel)",
   "language": "python",
   "name": "python3"
  },
  "language_info": {
   "codemirror_mode": {
    "name": "ipython",
    "version": 3
   },
   "file_extension": ".py",
   "mimetype": "text/x-python",
   "name": "python",
   "nbconvert_exporter": "python",
   "pygments_lexer": "ipython3",
   "version": "3.10.9"
  }
 },
 "nbformat": 4,
 "nbformat_minor": 5
}
